{
 "cells": [
  {
   "cell_type": "markdown",
   "metadata": {},
   "source": [
    "Word list from [mit](http://www.mit.edu/~ecprice/wordlist.10000)"
   ]
  },
  {
   "cell_type": "code",
   "execution_count": 1,
   "metadata": {},
   "outputs": [],
   "source": [
    "import collections\n",
    "import random\n",
    "import string\n",
    "from IPython.display import clear_output\n",
    "import time"
   ]
  },
  {
   "cell_type": "code",
   "execution_count": 2,
   "metadata": {},
   "outputs": [],
   "source": [
    "with open(\"wordlist.10000.txt\") as f:\n",
    "    CORPUS = f.read().split()"
   ]
  },
  {
   "cell_type": "code",
   "execution_count": 3,
   "metadata": {},
   "outputs": [],
   "source": [
    "Learnable = collections.namedtuple(\"Learnable\", [\"solved\", \"number_hits\", \"last_move\"])"
   ]
  },
  {
   "cell_type": "code",
   "execution_count": 4,
   "metadata": {},
   "outputs": [],
   "source": [
    "class Game:\n",
    "    def __init__(self, solution, players=None):\n",
    "        self.solution = solution\n",
    "        self.players = players if players else [0]\n",
    "        self.remaining_letters = [set(self.solution) for _ in self.players]\n",
    "        self.solved = [False for _ in self.players]\n",
    "\n",
    "    def render(self, player_index=0):\n",
    "        rendering = \"\"\n",
    "        for letter in self.solution:\n",
    "            if letter in self.remaining_letters[player_index]:\n",
    "                rendering = rendering + \"_\"\n",
    "            else:\n",
    "                rendering = rendering + letter\n",
    "        return rendering\n",
    "\n",
    "    def play_move(self, letter, player_index=0):\n",
    "        self.solved[player_index] = self._play_move(letter, player_index)\n",
    "        return Learnable(\n",
    "            solved=self.solved[player_index],\n",
    "            number_hits=self.solution.count(letter),\n",
    "            last_move=letter,\n",
    "        )\n",
    "\n",
    "    def play_game(self):\n",
    "        while not all(self.solved):\n",
    "            for i, player in enumerate(self.players):\n",
    "                if not self.solved[i]:\n",
    "                    player.learn(self.play_move(player.move(), i))\n",
    "\n",
    "    def _play_move(self, letter, player_index):\n",
    "        self.remaining_letters[player_index].discard(letter)\n",
    "        return len(self.remaining_letters[player_index]) == 0"
   ]
  },
  {
   "cell_type": "code",
   "execution_count": 5,
   "metadata": {},
   "outputs": [],
   "source": [
    "class RandomGame(Game):\n",
    "    def __init__(self, corpus, random_seed=None, players=None):\n",
    "        if random_seed:\n",
    "            random.seed(random_seed)\n",
    "        self.corpus = corpus\n",
    "        solution_ = self._random_word()\n",
    "        super().__init__(solution=solution_, players=players)\n",
    "\n",
    "    def _random_word(self):\n",
    "        return random.choice(self.corpus)"
   ]
  },
  {
   "cell_type": "code",
   "execution_count": 6,
   "metadata": {},
   "outputs": [],
   "source": [
    "class Player:\n",
    "    def __init__(self, strategy=None, corpus=None):\n",
    "        self.corpus = corpus\n",
    "        self.corpus_left = corpus\n",
    "        self.strategy = strategy\n",
    "        self.guesses = []\n",
    "        self.errors = []\n",
    "        self.alpha_left = string.ascii_lowercase\n",
    "        self.move_list_0 = self.strategy.init_moves(self.corpus)\n",
    "        self.move_list = self.move_list_0.copy()\n",
    "\n",
    "    def move(self):\n",
    "        move_ = self.move_list.pop(0)\n",
    "        self.guesses.append(move_)\n",
    "        self.alpha_left = self.alpha_left.replace(move_, \"\")\n",
    "        return move_\n",
    "\n",
    "    def learn(self, learnable):\n",
    "        if learnable.number_hits == 0:\n",
    "            self.errors.append(learnable.last_move)\n",
    "        self.corpus_left, new_moves = self.strategy.recalculate(\n",
    "            learnable, self.corpus_left, self.alpha_left\n",
    "        )\n",
    "        if new_moves:\n",
    "            self.move_list = new_moves\n",
    "\n",
    "    def reset(self):\n",
    "        self.alpha_left = string.ascii_lowercase\n",
    "        self.num_moves = 0\n",
    "        self.guessed = []\n",
    "        self.corpus_left = self.corpus\n",
    "        self.move_list = self.move_list_0.copy()\n",
    "        self.errors = []"
   ]
  },
  {
   "cell_type": "code",
   "execution_count": 7,
   "metadata": {},
   "outputs": [],
   "source": [
    "class Strategy:\n",
    "    def __init__(\n",
    "        self,\n",
    "        random_move=None,  # first, all\n",
    "        letter_frequency=\"char\",  # word\n",
    "        learn=None,  # hit, frequency\n",
    "    ):\n",
    "        self.random_move = random_move\n",
    "        self._get_moves_freq = {\n",
    "            \"char\": self._get_moves_freq_char,\n",
    "            \"word\": self._get_moves_freq_word,\n",
    "        }.get(letter_frequency, None)\n",
    "        self.learn = learn\n",
    "\n",
    "    def init_moves(self, corpus):\n",
    "        if self.random_move == \"first\":\n",
    "            move_list_a = [self._random_moves()[0]]\n",
    "            move_list_b = self._get_moves_freq(corpus).remove(move_list_a[0])\n",
    "            move_list = move_list_a + move_list_b\n",
    "        elif self.random_move == \"all\":\n",
    "            move_list = self._random_moves()\n",
    "        else:\n",
    "            move_list = self._get_moves_freq(corpus)\n",
    "        return move_list\n",
    "\n",
    "    def recalculate(self, learnable, corpus, alpha_left):\n",
    "        if self.learn is None:\n",
    "            return (corpus, None)\n",
    "        new_corpus = self._prune_corpus(learnable, corpus)\n",
    "        new_move_list = self._get_moves_freq(new_corpus)\n",
    "        new_move_list = [move for move in new_move_list if move in alpha_left]\n",
    "        return (new_corpus, new_move_list)\n",
    "\n",
    "    def _random_moves(self):\n",
    "        new_move_list = list(string.ascii_lowercase)\n",
    "        random.shuffle(new_move_list)\n",
    "        return new_move_list\n",
    "\n",
    "    def _get_moves_freq_char(self, corpus):\n",
    "        c = \"\".join([\"\".join(word for word in corpus)])\n",
    "        return [elem[0] for elem in collections.Counter(c)]\n",
    "\n",
    "    def _get_moves_freq_word(self, corpus):\n",
    "        c = \"\".join([\"\".join(\"\".join((set(word))) for word in corpus)])\n",
    "        return [elem[0] for elem in collections.Counter(c)]\n",
    "\n",
    "    def _prune_corpus(self, learnable, corpus):\n",
    "        if self.learn == \"hit\":\n",
    "            new_corpus = self._corpus_letter_check(learnable, corpus)\n",
    "        elif self.learn == \"frequency\":\n",
    "            new_corpus = self._corpus_frequency_check(learnable, corpus)\n",
    "        return new_corpus\n",
    "\n",
    "    def _corpus_letter_check(self, learnable, corpus):\n",
    "        letter = learnable.last_move\n",
    "        if learnable.number_hits > 0:\n",
    "            new_corpus = [word for word in corpus if letter in word]\n",
    "        else:\n",
    "            new_corpus = [word for word in corpus if letter not in word]\n",
    "        return new_corpus\n",
    "\n",
    "    def _corpus_frequency_check(self, learnable, corpus):\n",
    "        letter = learnable.last_move\n",
    "        hits = learnable.number_hits\n",
    "        if hits > 0:\n",
    "            new_corpus = [word for word in corpus if word.count(letter) == hits]\n",
    "        else:\n",
    "            new_corpus = [word for word in corpus if letter not in word]\n",
    "        return new_corpus"
   ]
  },
  {
   "cell_type": "code",
   "execution_count": 8,
   "metadata": {},
   "outputs": [
    {
     "name": "stdout",
     "output_type": "stream",
     "text": [
      "prefer\n",
      "p: 25 guesses; 21 errors\n",
      "q: 20 guesses; 16 errors\n",
      "r: 17 guesses; 13 errors\n"
     ]
    }
   ],
   "source": [
    "s = Strategy(letter_frequency=\"word\")\n",
    "t = Strategy(letter_frequency=\"word\", learn=\"hit\")\n",
    "u = Strategy(letter_frequency=\"word\", learn=\"frequency\")\n",
    "\n",
    "p = Player(strategy=s, corpus=CORPUS)\n",
    "q = Player(strategy=t, corpus=CORPUS)\n",
    "r = Player(strategy=u, corpus=CORPUS)\n",
    "\n",
    "g = RandomGame(corpus=CORPUS, players=[p, q, r])\n",
    "print(g.solution)\n",
    "for player in [p, q, r]:\n",
    "    player.reset()\n",
    "g.play_game()\n",
    "print(f\"p: {len(p.guesses)} guesses; {len(p.errors)} errors\")\n",
    "print(f\"q: {len(q.guesses)} guesses; {len(q.errors)} errors\")\n",
    "print(f\"r: {len(r.guesses)} guesses; {len(r.errors)} errors\")"
   ]
  },
  {
   "cell_type": "code",
   "execution_count": 9,
   "metadata": {},
   "outputs": [
    {
     "name": "stdout",
     "output_type": "stream",
     "text": [
      "Completed in 599.507796 seconds.\n"
     ]
    }
   ],
   "source": [
    "s = Strategy(letter_frequency=\"word\")\n",
    "t = Strategy(letter_frequency=\"word\", learn=\"hit\")\n",
    "u = Strategy(letter_frequency=\"word\", learn=\"frequency\")\n",
    "\n",
    "p = Player(strategy=s, corpus=CORPUS)\n",
    "q = Player(strategy=t, corpus=CORPUS)\n",
    "r = Player(strategy=u, corpus=CORPUS)\n",
    "\n",
    "errors = [[], [], []]\n",
    "moves = [[], [], []]\n",
    "\n",
    "t0 = time.process_time()\n",
    "for i_w, word in enumerate(CORPUS):\n",
    "    g = Game(solution=word, players=[p, q, r])\n",
    "    g.play_game()\n",
    "    for i, player in enumerate(g.players):\n",
    "        errors[i].append(len(player.errors))\n",
    "        moves[i].append(len(player.guesses))\n",
    "        player.reset()\n",
    "td = time.process_time() - t0\n",
    "\n",
    "print(f\"Completed in {td} seconds.\")"
   ]
  },
  {
   "cell_type": "markdown",
   "metadata": {},
   "source": [
    "Almost exactly 10 minutes."
   ]
  },
  {
   "cell_type": "code",
   "execution_count": 10,
   "metadata": {},
   "outputs": [
    {
     "name": "stdout",
     "output_type": "stream",
     "text": [
      "[852, 1346, 2777]\n"
     ]
    }
   ],
   "source": [
    "wins = [0, 0, 0]\n",
    "for i in range(len(g.players)):\n",
    "    wins[i] = len([game for game in errors[i] if game < 6])\n",
    "\n",
    "print(wins)"
   ]
  }
 ],
 "metadata": {
  "kernelspec": {
   "display_name": "Python 3",
   "language": "python",
   "name": "python3"
  },
  "language_info": {
   "codemirror_mode": {
    "name": "ipython",
    "version": 3
   },
   "file_extension": ".py",
   "mimetype": "text/x-python",
   "name": "python",
   "nbconvert_exporter": "python",
   "pygments_lexer": "ipython3",
   "version": "3.7.3"
  }
 },
 "nbformat": 4,
 "nbformat_minor": 2
}
